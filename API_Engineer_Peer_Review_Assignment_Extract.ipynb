{
 "cells": [
  {
   "cell_type": "markdown",
   "metadata": {},
   "source": [
    "<p style=\"text-align:center\">\n",
    "    <a href=\"https://skills.network/?utm_medium=Exinfluencer&utm_source=Exinfluencer&utm_content=000026UJ&utm_term=10006555&utm_id=NA-SkillsNetwork-Channel-SkillsNetworkCoursesIBMDeveloperSkillsNetworkPY0221ENSkillsNetwork899-2023-01-01\">\n",
    "    <img src=\"https://cf-courses-data.s3.us.cloud-object-storage.appdomain.cloud/assets/logos/SN_web_lightmode.png\" width=\"200\" alt=\"Skills Network Logo\"  />\n",
    "    </a>\n",
    "</p>\n"
   ]
  },
  {
   "cell_type": "markdown",
   "metadata": {},
   "source": [
    "# Peer Review Assignment - Data Engineer - Extract API Data\n"
   ]
  },
  {
   "cell_type": "markdown",
   "metadata": {},
   "source": [
    "Estimated time needed: **20** minutes\n"
   ]
  },
  {
   "cell_type": "markdown",
   "metadata": {},
   "source": [
    "## Objectives\n",
    "\n",
    "In this part you will:\n",
    "\n",
    "-   Collect exchange rate data using an API\n",
    "-   Store the data as a CSV\n"
   ]
  },
  {
   "cell_type": "markdown",
   "metadata": {},
   "source": [
    "For this lab, we are going to be using Python and several Python libraries. Some of these libraries might be installed in your lab environment or in SN Labs. Others may need to be installed by you. The cells below will install these libraries when executed.\n"
   ]
  },
  {
   "cell_type": "code",
   "execution_count": 1,
   "metadata": {
    "tags": []
   },
   "outputs": [],
   "source": [
    "#!mamba install pandas==1.3.3 -y\n",
    "#!mamba install requests==2.26.0 -y"
   ]
  },
  {
   "cell_type": "markdown",
   "metadata": {},
   "source": [
    "## Imports\n",
    "\n",
    "Import any additional libraries you may need here.\n"
   ]
  },
  {
   "cell_type": "code",
   "execution_count": 2,
   "metadata": {
    "tags": []
   },
   "outputs": [],
   "source": [
    "import requests\n",
    "import pandas as pd"
   ]
  },
  {
   "cell_type": "markdown",
   "metadata": {},
   "source": [
    "## Extract Data Using an API\n"
   ]
  },
  {
   "cell_type": "markdown",
   "metadata": {},
   "source": [
    "Using ExchangeRate-API we will extract currency exchange rate data. Use the below steps to get the access key and to get the data. \n",
    "1. Open the url : https://exchangeratesapi.io/ and click on **Get Free API Key**. \n",
    "2. Subscribe for Free plan and Sign-in with the Google Account. \n",
    "3. Once the account is created you will be redirected to https://apilayer.com website.\n",
    "2. Now, click on the **user icon** and click **Account** as shown below:\n",
    "\n",
    "<img src=\"https://cf-courses-data.s3.us.cloud-object-storage.appdomain.cloud/IBMDeveloperSkillsNetwork-PY0221EN-SkillsNetwork/labs/module%206/Final%20Assignment/Images/account.png\">\n",
    "\n",
    "3. Scroll down and you will get the API Key section. Copy the API key and use in the url in Question 1.\n"
   ]
  },
  {
   "cell_type": "markdown",
   "metadata": {},
   "source": [
    "### Call the API\n",
    "\n",
    " <b> Question 1</b> Using the `requests` library call the endpoint given above and save the text, remember the first few characters of the output: \n"
   ]
  },
  {
   "cell_type": "code",
   "execution_count": 41,
   "metadata": {
    "tags": []
   },
   "outputs": [
    {
     "name": "stdout",
     "output_type": "stream",
     "text": [
      "{\"success\":true,\"timestamp\":1688415904,\"base\":\"EUR\",\"date\":\"2023-07-03\",\"rates\":{\"AED\":4.007832,\"AFN\":93.299551,\"ALL\":106.248868,\"AMD\":422.245682,\"ANG\":1.964506,\"AOA\":900.729518,\"ARS\":281.438838,\"AUD\":1.635659,\"AWG\":1.966763,\"AZN\":1.85808,\"BAM\":1.957236,\"BBD\":2.200935,\"BDT\":117.967651,\"BGN\":1.955655,\"BHD\":0.41133,\"BIF\":3098.811248,\"BMD\":1.091131,\"BND\":1.473995,\"BOB\":7.532148,\"BRL\":5.244846,\"BSD\":1.0901,\"BTC\":3.4941816e-5,\"BTN\":89.309556,\"BWP\":14.651886,\"BYN\":2.751444,\"BYR\":21386.162134,\"BZD\":2.197233,\"CAD\":1.445972,\"CDF\":2630.715997,\"CHF\":0.97803,\"CLF\":0.031599,\"CLP\":871.900351,\"CNY\":7.900551,\"COP\":4553.288499,\"CRC\":591.223029,\"CUC\":1.091131,\"CUP\":28.914964,\"CVE\":110.695529,\"CZK\":23.724413,\"DJF\":193.916121,\"DKK\":7.447889,\"DOP\":60.502873,\"DZD\":147.940828,\"EGP\":33.713786,\"ERN\":16.366961,\"ETB\":59.576589,\"EUR\":1,\"FJD\":2.466229,\"FKP\":0.858885,\"GBP\":0.859745,\"GEL\":2.847903,\"GGP\":0.858885,\"GHS\":12.466136,\"GIP\":0.858885,\"GMD\":65.009613,\"GNF\":9443.736706,\"GTQ\":8.551118,\"GYD\":230.537558,\"HKD\":8.547694,\"HNL\":26.972541,\"HRK\":7.61185,\"HTG\":150.970789,\"HUF\":374.885187,\"IDR\":16421.353684,\"ILS\":4.034848,\"IMP\":0.858885,\"INR\":89.409541,\"IQD\":1429.381245,\"IRR\":46124.820859,\"ISK\":148.90708,\"JEP\":0.858885,\"JMD\":167.790056,\"JOD\":0.774159,\"JPY\":157.883375,\"KES\":153.522191,\"KGS\":95.267277,\"KHR\":4504.18787,\"KMF\":492.420583,\"KPW\":982.017449,\"KRW\":1425.496502,\"KWD\":0.335436,\"KYD\":0.908375,\"KZT\":488.763156,\"LAK\":20464.15693,\"LBP\":16661.566296,\"LKR\":335.739458,\"LRD\":197.057204,\"LSL\":20.545812,\"LTL\":3.221825,\"LVL\":0.660014,\"LYD\":5.248139,\"MAD\":10.798897,\"MDL\":20.00167,\"MGA\":4942.821973,\"MKD\":61.565744,\"MMK\":2289.100825,\"MNT\":3749.044195,\"MOP\":8.795692,\"MRO\":389.53348,\"MUR\":49.648668,\"MVR\":16.705496,\"MWK\":1147.317124,\"MXN\":18.621652,\"MYR\":5.092858,\"MZN\":69.013657,\"NAD\":20.545658,\"NGN\":841.675983,\"NIO\":39.908074,\"NOK\":11.669403,\"NPR\":142.89497,\"NZD\":1.773982,\"OMR\":0.420004,\"PAB\":1.09011,\"PEN\":3.954807,\"PGK\":3.840629,\"PHP\":60.318258,\"PKR\":312.608985,\"PLN\":4.437572,\"PYG\":7913.662349,\"QAR\":3.972831,\"RON\":4.951109,\"RSD\":117.220272,\"RUB\":97.653345,\"RWF\":1271.16729,\"SAR\":4.09209,\"SBD\":9.143353,\"SCR\":14.392999,\"SDG\":656.316384,\"SEK\":11.819946,\"SGD\":1.474167,\"SHP\":1.327634,\"SLE\":20.666077,\"SLL\":21549.831199,\"SOS\":620.313721,\"SRD\":40.535559,\"STD\":22584.202943,\"SVC\":9.538349,\"SYP\":2740.960106,\"SZL\":20.545702,\"THB\":38.244052,\"TJS\":11.908566,\"TMT\":3.818958,\"TND\":3.34755,\"TOP\":2.576048,\"TRY\":28.305892,\"TTD\":7.408301,\"TWD\":33.939613,\"TZS\":2640.535998,\"UAH\":40.257874,\"UGX\":4005.93974,\"USD\":1.091131,\"UYU\":40.92153,\"UZS\":12586.192423,\"VEF\":3032279.69748,\"VES\":30.531125,\"VND\":25870.709398,\"VUV\":129.757377,\"WST\":2.927625,\"XAF\":656.444745,\"XAG\":0.047678,\"XAU\":0.000568,\"XCD\":2.948835,\"XDR\":0.819509,\"XOF\":653.049119,\"XPF\":119.711621,\"YER\":273.164234,\"ZAR\":20.507471,\"ZMK\":9821.482008,\"ZMW\":19.40226,\"ZWL\":351.343647}}\n"
     ]
    }
   ],
   "source": [
    "# Write your code here\n",
    "api_key=\"a46b8708b0bb0e9c391f856f6f959710\" #https://manage.exchangeratesapi.io/dashboard\n",
    "url = \"http://api.exchangeratesapi.io/v1/latest?base=EUR&access_key=\"+api_key  #Make sure to change ******* to your API key.\n",
    "data_str=requests.get(url).text\n",
    "print(data_str)"
   ]
  },
  {
   "cell_type": "markdown",
   "metadata": {},
   "source": [
    "### Save as DataFrame\n",
    "\n",
    " <b> Question 2</b>  Using the data gathered turn it into a `pandas` dataframe. The dataframe should have the Currency as the index and `Rate` as their columns. Make sure to drop unnecessary columns.\n"
   ]
  },
  {
   "cell_type": "code",
   "execution_count": 34,
   "metadata": {
    "tags": []
   },
   "outputs": [],
   "source": [
    "# Turn the data into a dataframe\n",
    "# https://www.geeksforgeeks.org/python-convert-string-dictionary-to-dictionary/\n",
    "import json\n",
    "data_dict = json.loads(data_str)\n",
    "df = pd.DataFrame(data_dict)"
   ]
  },
  {
   "cell_type": "code",
   "execution_count": 39,
   "metadata": {
    "tags": []
   },
   "outputs": [
    {
     "data": {
      "text/html": [
       "<div>\n",
       "<style scoped>\n",
       "    .dataframe tbody tr th:only-of-type {\n",
       "        vertical-align: middle;\n",
       "    }\n",
       "\n",
       "    .dataframe tbody tr th {\n",
       "        vertical-align: top;\n",
       "    }\n",
       "\n",
       "    .dataframe thead th {\n",
       "        text-align: right;\n",
       "    }\n",
       "</style>\n",
       "<table border=\"1\" class=\"dataframe\">\n",
       "  <thead>\n",
       "    <tr style=\"text-align: right;\">\n",
       "      <th></th>\n",
       "      <th>rates</th>\n",
       "    </tr>\n",
       "  </thead>\n",
       "  <tbody>\n",
       "    <tr>\n",
       "      <th>AED</th>\n",
       "      <td>4.007962</td>\n",
       "    </tr>\n",
       "    <tr>\n",
       "      <th>AFN</th>\n",
       "      <td>93.297290</td>\n",
       "    </tr>\n",
       "    <tr>\n",
       "      <th>ALL</th>\n",
       "      <td>106.252312</td>\n",
       "    </tr>\n",
       "    <tr>\n",
       "      <th>AMD</th>\n",
       "      <td>422.259500</td>\n",
       "    </tr>\n",
       "    <tr>\n",
       "      <th>ANG</th>\n",
       "      <td>1.964570</td>\n",
       "    </tr>\n",
       "    <tr>\n",
       "      <th>...</th>\n",
       "      <td>...</td>\n",
       "    </tr>\n",
       "    <tr>\n",
       "      <th>YER</th>\n",
       "      <td>273.173565</td>\n",
       "    </tr>\n",
       "    <tr>\n",
       "      <th>ZAR</th>\n",
       "      <td>20.532316</td>\n",
       "    </tr>\n",
       "    <tr>\n",
       "      <th>ZMK</th>\n",
       "      <td>9821.811271</td>\n",
       "    </tr>\n",
       "    <tr>\n",
       "      <th>ZMW</th>\n",
       "      <td>19.402896</td>\n",
       "    </tr>\n",
       "    <tr>\n",
       "      <th>ZWL</th>\n",
       "      <td>351.355163</td>\n",
       "    </tr>\n",
       "  </tbody>\n",
       "</table>\n",
       "<p>170 rows × 1 columns</p>\n",
       "</div>"
      ],
      "text/plain": [
       "           rates\n",
       "AED     4.007962\n",
       "AFN    93.297290\n",
       "ALL   106.252312\n",
       "AMD   422.259500\n",
       "ANG     1.964570\n",
       "..           ...\n",
       "YER   273.173565\n",
       "ZAR    20.532316\n",
       "ZMK  9821.811271\n",
       "ZMW    19.402896\n",
       "ZWL   351.355163\n",
       "\n",
       "[170 rows x 1 columns]"
      ]
     },
     "metadata": {},
     "output_type": "display_data"
    }
   ],
   "source": [
    "# Drop unnescessary columns\n",
    "df2=df.drop(columns=['success','timestamp','base','date'])\n",
    "display(df2)"
   ]
  },
  {
   "cell_type": "markdown",
   "metadata": {},
   "source": [
    "### Load the Data\n",
    "\n",
    "Using the dataframe save it as a CSV names `exchange_rates_1.csv`.\n"
   ]
  },
  {
   "cell_type": "code",
   "execution_count": 40,
   "metadata": {
    "tags": []
   },
   "outputs": [],
   "source": [
    "# Save the Dataframe\n",
    "targetfile=\"exchange_rates_1.csv\"\n",
    "df2.to_csv(targetfile)"
   ]
  },
  {
   "cell_type": "markdown",
   "metadata": {},
   "source": [
    "Your CSV should be in this format with more currencies\n",
    "\n",
    "| | Rates |\n",
    "| ------- | ------- |\n",
    "|  AED| 4.398618    |\n",
    "|  AFN| 92.917693   |  \n",
    "|  ALL| 123.099093  |\n",
    "|  AMD| 621.935674  |\n",
    "|  ANG| 2.149648    | \n"
   ]
  },
  {
   "cell_type": "markdown",
   "metadata": {},
   "source": [
    "## Authors\n"
   ]
  },
  {
   "cell_type": "markdown",
   "metadata": {},
   "source": [
    "Ramesh Sannareddy, Joseph Santarcangelo and Azim Hirjani\n"
   ]
  },
  {
   "cell_type": "markdown",
   "metadata": {},
   "source": [
    "### Other Contributors\n"
   ]
  },
  {
   "cell_type": "markdown",
   "metadata": {},
   "source": [
    "Rav Ahuja\n"
   ]
  },
  {
   "cell_type": "markdown",
   "metadata": {},
   "source": [
    "## Change Log\n"
   ]
  },
  {
   "cell_type": "markdown",
   "metadata": {},
   "source": [
    "| Date (YYYY-MM-DD) | Version | Changed By        | Change Description                 |\n",
    "| ----------------- | ------- | ----------------- | ---------------------------------- |\n",
    "| 2022-05-06        | 0.3     | Malika            | Updated instructions to get the API and the url|\n",
    "| 2021-04-15        | 0.2     | Malika            | Updated the lab from USD to EUR    |\n",
    "| 2020-11-25        | 0.1     | Ramesh Sannareddy | Created initial version of the lab |\n"
   ]
  },
  {
   "cell_type": "markdown",
   "metadata": {},
   "source": [
    " Copyright © 2020 IBM Corporation. This notebook and its source code are released under the terms of the [MIT License](https://cognitiveclass.ai/mit-license?utm_medium=Exinfluencer&utm_source=Exinfluencer&utm_content=000026UJ&utm_term=10006555&utm_id=NA-SkillsNetwork-Channel-SkillsNetworkCoursesIBMDeveloperSkillsNetworkPY0221ENSkillsNetwork899-2023-01-01&cm_mmc=Email_Newsletter-_-Developer_Ed%2BTech-_-WW_WW-_-SkillsNetwork-Courses-IBM-DA0321EN-SkillsNetwork-21426264&cm_mmca1=000026UJ&cm_mmca2=10006555&cm_mmca3=M12345678&cvosrc=email.Newsletter.M12345678&cvo_campaign=000026UJ).\n"
   ]
  }
 ],
 "metadata": {
  "kernelspec": {
   "display_name": "Python",
   "language": "python",
   "name": "conda-env-python-py"
  },
  "language_info": {
   "codemirror_mode": {
    "name": "ipython",
    "version": 3
   },
   "file_extension": ".py",
   "mimetype": "text/x-python",
   "name": "python",
   "nbconvert_exporter": "python",
   "pygments_lexer": "ipython3",
   "version": "3.7.12"
  }
 },
 "nbformat": 4,
 "nbformat_minor": 4
}
